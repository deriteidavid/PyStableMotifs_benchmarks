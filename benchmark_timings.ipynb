{
 "cells": [
  {
   "cell_type": "code",
   "execution_count": 1,
   "metadata": {},
   "outputs": [
    {
     "name": "stderr",
     "output_type": "stream",
     "text": [
      "\n",
      "Bad key \"text.kerning_factor\" on line 4 in\n",
      "/home/david/anaconda2/envs/python_3_env/lib/python3.7/site-packages/matplotlib/mpl-data/stylelib/_classic_test_patch.mplstyle.\n",
      "You probably need to get an updated matplotlibrc file from\n",
      "https://github.com/matplotlib/matplotlib/blob/v3.1.3/matplotlibrc.template\n",
      "or from the matplotlib source distribution\n"
     ]
    }
   ],
   "source": [
    "import sys\n",
    "sys.path.append('../StableMotifs/')\n",
    "\n",
    "import stablemotifs\n",
    "import biolqm\n",
    "import ginsim\n",
    "import StableMotifs as sm\n",
    "import PyBoolNet\n",
    "import boolsim\n",
    "import timeit\n",
    "import timeout_decorator\n",
    "from timeout_decorator import TimeoutError\n",
    "import pandas as pd\n",
    "import glob\n",
    "from colomoto_jupyter import tabulate\n",
    "import cabean\n",
    "import pypint"
   ]
  },
  {
   "cell_type": "markdown",
   "metadata": {},
   "source": [
    "boolsim==0.5\n",
    "cabean==1.0\n",
    "colomoto-jupyter==0.7.1\n",
    "ginsim==0.4.2\n",
    "networkx==2.4\n",
    "numpy==1.18.5\n",
    "PyBoolNet==2.2.9\n",
    "stablemotifs==1.0\n",
    "sympy==1.5.1\n",
    "timeout-decorator==0.4.1"
   ]
  },
  {
   "cell_type": "code",
   "execution_count": 2,
   "metadata": {},
   "outputs": [
    {
     "data": {
      "text/plain": [
       "'2.2.9'"
      ]
     },
     "execution_count": 2,
     "metadata": {},
     "output_type": "execute_result"
    }
   ],
   "source": [
    "PyBoolNet.version()"
   ]
  },
  {
   "cell_type": "markdown",
   "metadata": {},
   "source": [
    "## Parameters of the bechmark"
   ]
  },
  {
   "cell_type": "code",
   "execution_count": 3,
   "metadata": {},
   "outputs": [],
   "source": [
    "\n",
    "#the folder in which all models we whish to run are saved in the booleanned format with .booleannet extention. \n",
    "models_path='models_for_benchmark/'\n",
    "\n",
    "#run_ens_size is the number of times each method is repeatedly run IN THE SAME ITERATION. \n",
    "#this means that the timeout has to be increased proporionally to account for all runs\n",
    "#In the final output the minimum (best) runtime is saved out of all in the ensemble \n",
    "run_ens_size=1 \n",
    "\n",
    "#timeout limit in seconds for each method (all runs within the run_ens_size range). \n",
    "#If the timeout limit is reached the output will be -1\n",
    "timeout_limit=43200\n",
    "\n",
    "\n",
    "#name of methods to be exluded from the run. This can be set manually if we know \n",
    "#that some methods are not relevant or take too much time\n",
    "exclude_from_run=set([])#'sm_jgtz','stable_motifs_new','CABEAN', 'Pint','boolsim','bioLQM','PyBoolNet_Asp'])\n",
    "#exclude_from_run=set(['bioLQM','PyBoolNet_Asp','PyBoolNet','Pint']) \n",
    "#uncomment the line abovr if you want only methods that look for complex attractors\n",
    "\n",
    "#the excel file in which the dataframe summarizing the results will be saved.\n",
    "#if it already exists new results will be added to it\n",
    "output_file_name='timing_results.xlsx'\n"
   ]
  },
  {
   "cell_type": "code",
   "execution_count": 4,
   "metadata": {},
   "outputs": [
    {
     "name": "stdout",
     "output_type": "stream",
     "text": [
      "\n",
      "Running model models_for_benchmark/phase_switch.booleannet\n",
      "method: bioLQM\n",
      "method: PyBoolNet_Asp\n",
      "method: PyBoolNet\n",
      "Attractors.compute_json(..)\n",
      " Attractors.completeness(..) yes\n",
      " working on minimal trapspace 1/3: 01100110110\n",
      "  Attractors.univocality(..) yes\n",
      "  Attractors.faithfulness(..) yes\n",
      "  Attractors.find_attractor_state_by_randomwalk_and_ctl(..)\n",
      " working on minimal trapspace 2/3: 00010000010\n",
      "  Attractors.univocality(..) yes\n",
      "  Attractors.faithfulness(..) yes\n",
      "  Attractors.find_attractor_state_by_randomwalk_and_ctl(..)\n",
      " working on minimal trapspace 3/3: 00101011101\n",
      "  Attractors.univocality(..) yes\n",
      "  Attractors.faithfulness(..) yes\n",
      "  Attractors.find_attractor_state_by_randomwalk_and_ctl(..)\n",
      "method: boolsim\n",
      "method: sm_jgtz\n",
      "method: Pint\n",
      "method: CABEAN\n",
      "method: stable_motifs_new\n"
     ]
    }
   ],
   "source": [
    "@timeout_decorator.timeout(timeout_limit)\n",
    "def run_timed_test(method_runstring, setup, repeat):\n",
    "\n",
    "    return timeit.repeat(method_runstring,setup=setup, repeat=repeat, number=1)\n",
    "\n",
    "try: #if the file already exists we dont overwrite it\n",
    "    result_df=pd.read_excel(output_file_name)\n",
    "    result_df=result_df.reset_index(drop=True)\n",
    "except FileNotFoundError:\n",
    "    result_df=pd.DataFrame()\n",
    "    \n",
    "#grabbing all the .booleannet models from the folder\n",
    "model_set=glob.glob(models_path+'*.booleannet')\n",
    "#model_set=['PSO.txt', 'phase_switch.txt','myeloid.txt'] \n",
    "\n",
    "for model_file_name in model_set:\n",
    "    print('\\nRunning model %s'%model_file_name)\n",
    "    \n",
    "    base_setup_string='''import stablemotifs\n",
    "import biolqm\n",
    "import ginsim\n",
    "import StableMotifs as sm\n",
    "import PyBoolNet\n",
    "import boolsim\n",
    "import cabean\n",
    "import pypint\n",
    "import json\n",
    "from colomoto_jupyter import tabulate\n",
    "\n",
    "\n",
    "model_file_name='%s'\n",
    "with open(model_file_name) as f:\n",
    "    rules=f.read().replace('#BOOLEAN RULES','').strip()\n",
    "biolqm_model = biolqm.load(model_file_name, \"booleannet\")\n",
    "pypint_model=biolqm.to_pint(biolqm_model)'''%model_file_name\n",
    "\n",
    "    method_runstrings={'sm_jgtz': \"a=stablemotifs.load(biolqm_model, quiet=True).attractors\\ntabulate(a).to_excel('attr_output/attr_output_sm_jgtz_'+model_file_name.split('.')[0].split('/')[-1]+'.xlsx')\",\n",
    "                   \n",
    "                   \n",
    " 'stable_motifs_new': \"ar = sm.AttractorRepertoire.from_primes(primes, max_simulate_size=max_simulate_size)\\nex.attractor_dataframe(ar).to_excel('attr_output/attr_output_stable_motifs_new_'+model_file_name.split('.')[0].split('/')[-1]+'.xlsx')\",\n",
    "                   \n",
    "                   \n",
    " 'PyBoolNet': 'd=PyBoolNet.Attractors.compute_json(primes, \"asynchronous\")\\nwith open(\\'attr_output/attr_output_PyBoolNet_\\'+model_file_name.split(\\'.\\')[0].split(\\'/\\')[-1]+\\'.json\\',\\'w\\') as fp:\\n\\tjson.dump(d,fp)',\n",
    "                   \n",
    "                   \n",
    " 'boolsim': \"a=boolsim.attractors(biolqm_model)\\ntabulate(a).to_excel('attr_output/attr_output_boolsim_'+model_file_name.split('.')[0].split('/')[-1]+'.xlsx')\",\n",
    "                   \n",
    "                   \n",
    " 'bioLQM': \"a=biolqm.fixpoints(biolqm_model)\\ntabulate(a).to_excel('attr_output/attr_output_bioLQM_'+model_file_name.split('.')[0].split('/')[-1]+'.xlsx')\",\n",
    "                   \n",
    "                   \n",
    " 'PyBoolNet_Asp': \"a=PyBoolNet.AspSolver.steady_states(primes)\\ntabulate(a).to_excel('attr_output/attr_output_PyBoolNet_Asp_'+model_file_name.split('.')[0].split('/')[-1]+'.xlsx')\",\n",
    "                   \n",
    "                   \n",
    " 'CABEAN': \"a=cabean.attractors(biolqm_model)\\ntabulate(a).to_excel('attr_output/attr_output_CABEAN_'+model_file_name.split('.')[0].split('/')[-1]+'.xlsx')\",\n",
    "                   \n",
    "                   \n",
    " 'Pint': \"a=pypint.fixpoints(pypint_model)\\ntabulate(a).to_excel('attr_output/attr_output_Pint_'+model_file_name.split('.')[0].split('/')[-1]+'.xlsx')\"}\n",
    "\n",
    "    method_setups={'sm_jgtz':base_setup_string,\n",
    "\n",
    "    'stable_motifs_new':base_setup_string+'''\n",
    "max_simulate_size=20\n",
    "rules_pbn = sm.Format.booleannet2bnet(rules)\n",
    "primes = PyBoolNet.FileExchange.bnet2primes(rules_pbn)\n",
    "import StableMotifs.Export as ex\n",
    "''',\n",
    "\n",
    "    'PyBoolNet':base_setup_string+'''\n",
    "rules_pbn = sm.Format.booleannet2bnet(rules)\n",
    "primes = PyBoolNet.FileExchange.bnet2primes(rules_pbn)\n",
    "''',\n",
    "\n",
    "    'boolsim':base_setup_string,\n",
    "\n",
    "    'bioLQM':base_setup_string,\n",
    "\n",
    "    'PyBoolNet_Asp':base_setup_string+'''\n",
    "rules_pbn = sm.Format.booleannet2bnet(rules)\n",
    "primes = PyBoolNet.FileExchange.bnet2primes(rules_pbn)\n",
    "''',\n",
    "\n",
    "    'CABEAN':base_setup_string,\n",
    "\n",
    "    'Pint':base_setup_string}\n",
    "\n",
    "    method_runtimes={i:[] for i in method_runstrings}\n",
    "    \n",
    "    \n",
    "    for method_name in set(method_runstrings)-exclude_from_run:\n",
    "        print('method:',method_name)\n",
    "        try:\n",
    "            method_runtimes[method_name]=run_timed_test(method_runstrings[method_name], setup=method_setups[method_name], repeat=run_ens_size)\n",
    "        except Exception as e:\n",
    "            print(str(e))\n",
    "            method_runtimes[method_name].append(-1)\n",
    "    runtime_minimums={k:min(method_runtimes[k]) for k in method_runtimes.keys()-exclude_from_run} \n",
    "    runtime_minimums['model']=model_file_name.split('.')[0].split('/')[-1]\n",
    "    result_df=result_df.append([runtime_minimums],ignore_index=True)\n",
    "    result_df=result_df.reset_index(drop=True)\n",
    "\n",
    "    result_df.to_excel('timing_results.xlsx')"
   ]
  },
  {
   "cell_type": "code",
   "execution_count": 5,
   "metadata": {},
   "outputs": [
    {
     "data": {
      "text/html": [
       "<div>\n",
       "<style scoped>\n",
       "    .dataframe tbody tr th:only-of-type {\n",
       "        vertical-align: middle;\n",
       "    }\n",
       "\n",
       "    .dataframe tbody tr th {\n",
       "        vertical-align: top;\n",
       "    }\n",
       "\n",
       "    .dataframe thead th {\n",
       "        text-align: right;\n",
       "    }\n",
       "</style>\n",
       "<table border=\"1\" class=\"dataframe\">\n",
       "  <thead>\n",
       "    <tr style=\"text-align: right;\">\n",
       "      <th></th>\n",
       "      <th>bioLQM</th>\n",
       "      <th>PyBoolNet_Asp</th>\n",
       "      <th>PyBoolNet</th>\n",
       "      <th>boolsim</th>\n",
       "      <th>sm_jgtz</th>\n",
       "      <th>Pint</th>\n",
       "      <th>CABEAN</th>\n",
       "      <th>stable_motifs_new</th>\n",
       "      <th>model</th>\n",
       "    </tr>\n",
       "  </thead>\n",
       "  <tbody>\n",
       "    <tr>\n",
       "      <th>0</th>\n",
       "      <td>0.304213</td>\n",
       "      <td>0.113231</td>\n",
       "      <td>0.392621</td>\n",
       "      <td>0.166109</td>\n",
       "      <td>31.469688</td>\n",
       "      <td>0.098801</td>\n",
       "      <td>0.133288</td>\n",
       "      <td>0.602926</td>\n",
       "      <td>phase_switch</td>\n",
       "    </tr>\n",
       "  </tbody>\n",
       "</table>\n",
       "</div>"
      ],
      "text/plain": [
       "     bioLQM  PyBoolNet_Asp  PyBoolNet   boolsim    sm_jgtz      Pint  \\\n",
       "0  0.304213       0.113231   0.392621  0.166109  31.469688  0.098801   \n",
       "\n",
       "     CABEAN  stable_motifs_new         model  \n",
       "0  0.133288           0.602926  phase_switch  "
      ]
     },
     "execution_count": 5,
     "metadata": {},
     "output_type": "execute_result"
    }
   ],
   "source": [
    "result_df"
   ]
  },
  {
   "cell_type": "markdown",
   "metadata": {},
   "source": [
    "result_df.to_excel(output_file_name)"
   ]
  }
 ],
 "metadata": {
  "kernelspec": {
   "display_name": "Python 3",
   "language": "python",
   "name": "python3"
  },
  "language_info": {
   "codemirror_mode": {
    "name": "ipython",
    "version": 3
   },
   "file_extension": ".py",
   "mimetype": "text/x-python",
   "name": "python",
   "nbconvert_exporter": "python",
   "pygments_lexer": "ipython3",
   "version": "3.7.6"
  }
 },
 "nbformat": 4,
 "nbformat_minor": 4
}
