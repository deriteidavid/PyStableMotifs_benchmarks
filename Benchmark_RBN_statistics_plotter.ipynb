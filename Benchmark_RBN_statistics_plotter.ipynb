{
 "cells": [
  {
   "cell_type": "markdown",
   "metadata": {},
   "source": [
    "## Attractor Identification Benchmarks for Random Boolean Networks\n",
    "This notebook parses and plots the attractor identification benchmarks in the file `timing_results_RBN.xlsx`. This requires notebook requires the latest versions of `pandas`, `numpy`, `matplotlib`, and `openpyxl`."
   ]
  },
  {
   "cell_type": "markdown",
   "metadata": {},
   "source": [
    "All necessary libraries are imported here, except `openpyxl`, which is imported later by `pandas.read_excel()`."
   ]
  },
  {
   "cell_type": "code",
   "execution_count": 6,
   "metadata": {},
   "outputs": [],
   "source": [
    "from matplotlib import pyplot as plt\n",
    "import pandas as pd\n",
    "import numpy as np\n",
    "from matplotlib.patches import Polygon\n",
    "from matplotlib.patches import Patch\n",
    "from matplotlib.lines import Line2D"
   ]
  },
  {
   "cell_type": "markdown",
   "metadata": {},
   "source": [
    "### Data preparation\n",
    "We begin by prepare the labels and colors for the plot."
   ]
  },
  {
   "cell_type": "code",
   "execution_count": 14,
   "metadata": {},
   "outputs": [],
   "source": [
    "methods=['stable_motifs_new','sm_jgtz', 'boolsim','CABEAN', 'PyBoolNet']\n",
    "colors=['#5959AB','#F0810F','#cc0000','#ff33cc','#26B96F'] \n",
    "labels=['PyStableMotifs', 'Stable Motifs 2013','BoolSim', 'CABEAN', 'PyBoolNet']\n",
    "color_dict=dict(zip(methods,colors))\n",
    "label_dict=dict(zip(methods,labels))"
   ]
  },
  {
   "cell_type": "markdown",
   "metadata": {},
   "source": [
    "Next, we import and organize raw timing data, and display completion counts.<br>\n",
    "(To reproduce the results published in the application note, use the input file: _timing_results_RBN_paper.xlsx_ )"
   ]
  },
  {
   "cell_type": "code",
   "execution_count": 20,
   "metadata": {},
   "outputs": [
    {
     "data": {
      "text/html": [
       "<div>\n",
       "<style scoped>\n",
       "    .dataframe tbody tr th:only-of-type {\n",
       "        vertical-align: middle;\n",
       "    }\n",
       "\n",
       "    .dataframe tbody tr th {\n",
       "        vertical-align: top;\n",
       "    }\n",
       "\n",
       "    .dataframe thead th {\n",
       "        text-align: right;\n",
       "    }\n",
       "</style>\n",
       "<table border=\"1\" class=\"dataframe\">\n",
       "  <thead>\n",
       "    <tr style=\"text-align: right;\">\n",
       "      <th></th>\n",
       "      <th>stable_motifs_new</th>\n",
       "      <th>sm_jgtz</th>\n",
       "      <th>boolsim</th>\n",
       "      <th>CABEAN</th>\n",
       "      <th>PyBoolNet</th>\n",
       "    </tr>\n",
       "    <tr>\n",
       "      <th>N</th>\n",
       "      <th></th>\n",
       "      <th></th>\n",
       "      <th></th>\n",
       "      <th></th>\n",
       "      <th></th>\n",
       "    </tr>\n",
       "  </thead>\n",
       "  <tbody>\n",
       "    <tr>\n",
       "      <th>10</th>\n",
       "      <td>10</td>\n",
       "      <td>10</td>\n",
       "      <td>10</td>\n",
       "      <td>10</td>\n",
       "      <td>10</td>\n",
       "    </tr>\n",
       "    <tr>\n",
       "      <th>20</th>\n",
       "      <td>10</td>\n",
       "      <td>9</td>\n",
       "      <td>10</td>\n",
       "      <td>9</td>\n",
       "      <td>10</td>\n",
       "    </tr>\n",
       "    <tr>\n",
       "      <th>30</th>\n",
       "      <td>9</td>\n",
       "      <td>10</td>\n",
       "      <td>10</td>\n",
       "      <td>10</td>\n",
       "      <td>10</td>\n",
       "    </tr>\n",
       "    <tr>\n",
       "      <th>40</th>\n",
       "      <td>10</td>\n",
       "      <td>8</td>\n",
       "      <td>9</td>\n",
       "      <td>9</td>\n",
       "      <td>8</td>\n",
       "    </tr>\n",
       "    <tr>\n",
       "      <th>50</th>\n",
       "      <td>10</td>\n",
       "      <td>10</td>\n",
       "      <td>6</td>\n",
       "      <td>6</td>\n",
       "      <td>1</td>\n",
       "    </tr>\n",
       "  </tbody>\n",
       "</table>\n",
       "</div>"
      ],
      "text/plain": [
       "    stable_motifs_new  sm_jgtz  boolsim  CABEAN  PyBoolNet\n",
       "N                                                         \n",
       "10                 10       10       10      10         10\n",
       "20                 10        9       10       9         10\n",
       "30                  9       10       10      10         10\n",
       "40                 10        8        9       9          8\n",
       "50                 10       10        6       6          1"
      ]
     },
     "execution_count": 20,
     "metadata": {},
     "output_type": "execute_result"
    }
   ],
   "source": [
    "input_file_name='timing_results_RBN.xlsx'\n",
    "df=pd.read_excel(input_file_name,engine='openpyxl')\n",
    "df['N']=df.apply(lambda row: int(row['model'].split('N_')[-1].split('_')[0]),axis=1)\n",
    "df=df[methods+['N']]\n",
    "df.groupby('N').agg('count')[methods]"
   ]
  },
  {
   "cell_type": "markdown",
   "metadata": {},
   "source": [
    "We process the data into a data dictionary, `N_data`, for plotting."
   ]
  },
  {
   "cell_type": "code",
   "execution_count": 21,
   "metadata": {},
   "outputs": [],
   "source": [
    "N_range=sorted(set(df['N']))\n",
    "N_data={}\n",
    "for N in N_range:\n",
    "    N_data[N]=[]\n",
    "    for method in methods:\n",
    "        N_data[N].append(df[method][df[method].astype(str).str.replace('.', '').str.isnumeric()][df['N']==N].values)"
   ]
  },
  {
   "cell_type": "markdown",
   "metadata": {},
   "source": [
    "We wish to plot the data on a log_60 scale, so we transform `N_data` accordingly to obtain `logN_data`."
   ]
  },
  {
   "cell_type": "code",
   "execution_count": 22,
   "metadata": {},
   "outputs": [],
   "source": [
    "def log60(x): return np.log(x)/np.log(60)\n",
    "logN_data={}\n",
    "for N in N_range:\n",
    "    logN_data[N]=[np.log10(x.astype(float))/np.log10(60) for x in N_data[N]]"
   ]
  },
  {
   "cell_type": "markdown",
   "metadata": {},
   "source": [
    "### Box plots with log base 60"
   ]
  },
  {
   "cell_type": "markdown",
   "metadata": {},
   "source": [
    "We define the necessary plotting functions and parameters first."
   ]
  },
  {
   "cell_type": "code",
   "execution_count": 23,
   "metadata": {},
   "outputs": [],
   "source": [
    "N_methods=len(methods)\n",
    "N_network_sizes=len(N_range)\n",
    "N_networks_per_size=10\n",
    "\n",
    "fsa=16 # font size for incomplete count annotations and legend\n",
    "fs=22 # font size for other plot elements\n",
    "\n",
    "# important vertical axis values\n",
    "ymax = log60(12*3600)+0.25\n",
    "cutoff_time_seconds=12*3600\n",
    "log_cutoff_time=log60(cutoff_time_seconds)\n",
    "\n",
    "# horizontal axis values\n",
    "xmax=(N_methods+2)*N_network_sizes\n",
    "xlims = [0,xmax]\n",
    "xticks=np.linspace(N_methods+2,xmax, N_network_sizes)-((N_methods+2)/2.)\n",
    "\n",
    "# box plot horizontal positions\n",
    "positions={}\n",
    "pos_index=1\n",
    "for N in N_range:\n",
    "    positions[N]=range(pos_index,N_methods+pos_index)\n",
    "    pos_index+=N_methods+2\n",
    "\n",
    "# tick variables\n",
    "ytick_pos = [-1,0,1,2]\n",
    "minor_interval=5 # for vertical axis\n",
    "mticks=[] # minor ticks for the vertical axis\n",
    "for k in ytick_pos:\n",
    "    mticks+=[log60(60**k+i*60**k) for i in range(minor_interval,60,minor_interval)]\n",
    "\n",
    "# prepare box plot properties\n",
    "medianprops = dict(linestyle='-', linewidth=1.5, color='#011A27')\n",
    "boxprops = dict(linestyle='-', linewidth=0.5, color='black')    \n",
    "    \n",
    "# box plot parameters\n",
    "boxwidths=0.9\n",
    "\n",
    "# labels\n",
    "xlab=r'$N$'\n",
    "ylab=r'Log completion time ($log_{60} T/sec )$'\n",
    "yticklab=[r'$\\frac{1}{60}$ sec.','1 sec.','1 min.','1 hr.']\n",
    "timeoutlab='Timeout Threshold (12 hours)'"
   ]
  },
  {
   "cell_type": "markdown",
   "metadata": {},
   "source": [
    "Lastly, we construct and display the figure."
   ]
  },
  {
   "cell_type": "code",
   "execution_count": 24,
   "metadata": {},
   "outputs": [
    {
     "name": "stderr",
     "output_type": "stream",
     "text": [
      "/home/david/anaconda2/envs/python_3_env/lib/python3.7/site-packages/numpy/core/_asarray.py:102: VisibleDeprecationWarning: Creating an ndarray from ragged nested sequences (which is a list-or-tuple of lists-or-tuples-or ndarrays with different lengths or shapes) is deprecated. If you meant to do this, you must specify 'dtype=object' when creating the ndarray.\n",
      "  return array(a, dtype, copy=False, order=order)\n",
      "/home/david/anaconda2/envs/python_3_env/lib/python3.7/site-packages/numpy/core/_asarray.py:102: VisibleDeprecationWarning: Creating an ndarray from ragged nested sequences (which is a list-or-tuple of lists-or-tuples-or ndarrays with different lengths or shapes) is deprecated. If you meant to do this, you must specify 'dtype=object' when creating the ndarray.\n",
      "  return array(a, dtype, copy=False, order=order)\n",
      "/home/david/anaconda2/envs/python_3_env/lib/python3.7/site-packages/numpy/core/_asarray.py:102: VisibleDeprecationWarning: Creating an ndarray from ragged nested sequences (which is a list-or-tuple of lists-or-tuples-or ndarrays with different lengths or shapes) is deprecated. If you meant to do this, you must specify 'dtype=object' when creating the ndarray.\n",
      "  return array(a, dtype, copy=False, order=order)\n",
      "/home/david/anaconda2/envs/python_3_env/lib/python3.7/site-packages/numpy/core/_asarray.py:102: VisibleDeprecationWarning: Creating an ndarray from ragged nested sequences (which is a list-or-tuple of lists-or-tuples-or ndarrays with different lengths or shapes) is deprecated. If you meant to do this, you must specify 'dtype=object' when creating the ndarray.\n",
      "  return array(a, dtype, copy=False, order=order)\n"
     ]
    },
    {
     "data": {
      "image/png": "[encoded data removed]",
      "text/plain": [
       "<Figure size 1152x864 with 1 Axes>"
      ]
     },
     "metadata": {},
     "output_type": "display_data"
    }
   ],
   "source": [
    "# initialize plots\n",
    "fig, ax1 = plt.subplots(figsize=(16, 12),facecolor='white')\n",
    "fig.subplots_adjust(left=0.075, right=0.95, top=0.9, bottom=0.25)\n",
    "\n",
    "# Add a horizontal grid to the plot, but make it very light in color\n",
    "# so we can use it for reading data values but not be distracting\n",
    "ax1.yaxis.grid(True, linestyle='-', which='major', color='lightgrey',alpha=0.8)\n",
    "\n",
    "# construct box plots (using the log-transformed data)\n",
    "for N in N_range:\n",
    "    bp = ax1.boxplot(logN_data[N], notch=0, sym='+', vert=1, whis=1.5,positions=positions[N],\n",
    "                     widths=boxwidths,medianprops=medianprops, boxprops=boxprops)\n",
    "    \n",
    "    for i in range(N_methods):\n",
    "        box = bp['boxes'][i]\n",
    "        box_x = []\n",
    "        box_y = []\n",
    "        for j in range(N_methods):\n",
    "            box_x.append(box.get_xdata()[j])\n",
    "            box_y.append(box.get_ydata()[j])\n",
    "        box_coords = np.column_stack([box_x, box_y])\n",
    "        ax1.add_patch(Polygon(box_coords, facecolor=color_dict[methods[i]],alpha=0.95))\n",
    "        #adding the completion counts\n",
    "        not_completed=N_networks_per_size-len(N_data[N][i])\n",
    "        if not_completed!=0:\n",
    "            ax1.annotate(not_completed,xy=(np.mean(box_x),ymax-0.2), color=color_dict[methods[i]],size=fsa)\n",
    "\n",
    "# display plots\n",
    "plt.setp(bp['boxes'], color='black')\n",
    "plt.setp(bp['whiskers'], color='black')\n",
    "plt.setp(bp['fliers'], color='black', marker='+')\n",
    "\n",
    "# horizontal line to show the timeout cutoff\n",
    "hline3=plt.hlines(log_cutoff_time,0, xmax, colors='red', linestyles='--', \n",
    "                  label=timeoutlab, alpha=0.8, linewidth=1.2)\n",
    "\n",
    "# prepare legend, ticks, and axis labels\n",
    "legend_elements = [Patch(facecolor=color_dict[i], label=label_dict[i]) for i in methods]\n",
    "legend_elements+=[hline3]\n",
    "\n",
    "# set up axis ticks\n",
    "ax1.set_yticks(ytick_pos)\n",
    "ax1.set_yticklabels(yticklab,rotation=0)\n",
    "minors=ax1.set_yticks(mticks,minor=True)\n",
    "\n",
    "# display legend and labels\n",
    "plt.legend(handles=legend_elements,fontsize=fsa, loc='upper left')\n",
    "plt.xlim(xlims)\n",
    "plt.ylim(ymax=ymax)\n",
    "plt.xticks(xticks, N_range, fontsize=fs)\n",
    "plt.yticks(fontsize=fs)\n",
    "xlab=plt.xlabel(xlab,fontsize=fs)\n",
    "ylab=plt.ylabel(ylab,fontsize=fs)"
   ]
  }
 ],
 "metadata": {
  "kernelspec": {
   "display_name": "Python 3",
   "language": "python",
   "name": "python3"
  },
  "language_info": {
   "codemirror_mode": {
    "name": "ipython",
    "version": 3
   },
   "file_extension": ".py",
   "mimetype": "text/x-python",
   "name": "python",
   "nbconvert_exporter": "python",
   "pygments_lexer": "ipython3",
   "version": "3.7.6"
  }
 },
 "nbformat": 4,
 "nbformat_minor": 4
}
