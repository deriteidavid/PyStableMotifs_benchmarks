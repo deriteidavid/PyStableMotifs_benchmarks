{
 "cells": [
  {
   "cell_type": "code",
   "execution_count": 1,
   "metadata": {},
   "outputs": [
    {
     "name": "stderr",
     "output_type": "stream",
     "text": [
      "\n",
      "Bad key \"text.kerning_factor\" on line 4 in\n",
      "/home/david/anaconda2/envs/python_3_env/lib/python3.7/site-packages/matplotlib/mpl-data/stylelib/_classic_test_patch.mplstyle.\n",
      "You probably need to get an updated matplotlibrc file from\n",
      "https://github.com/matplotlib/matplotlib/blob/v3.1.3/matplotlibrc.template\n",
      "or from the matplotlib source distribution\n"
     ]
    }
   ],
   "source": [
    "from matplotlib import pyplot as plt\n",
    "import seaborn as sns\n",
    "import pandas as pd\n",
    "import numpy as np\n",
    "import seaborn as sns\n",
    "from matplotlib.patches import Polygon\n",
    "from matplotlib.patches import Patch\n",
    "from matplotlib.lines import Line2D"
   ]
  },
  {
   "cell_type": "code",
   "execution_count": 2,
   "metadata": {},
   "outputs": [],
   "source": [
    "# prepare labels and colors\n",
    "methods=['stable_motifs_new','sm_jgtz', 'boolsim','CABEAN', 'PyBoolNet']\n",
    "colors=['#5959AB','#F0810F','#cc0000','#ff33cc','#26B96F'] \n",
    "labels=['Stable Motifs 2021', 'Stable Motifs 2013','BoolSim', 'CABEAN', 'PyBoolNet']\n",
    "color_dict=dict(zip(methods,colors))\n",
    "label_dict=dict(zip(methods,labels))"
   ]
  },
  {
   "cell_type": "code",
   "execution_count": 4,
   "metadata": {},
   "outputs": [
    {
     "data": {
      "text/html": [
       "<div>\n",
       "<style scoped>\n",
       "    .dataframe tbody tr th:only-of-type {\n",
       "        vertical-align: middle;\n",
       "    }\n",
       "\n",
       "    .dataframe tbody tr th {\n",
       "        vertical-align: top;\n",
       "    }\n",
       "\n",
       "    .dataframe thead th {\n",
       "        text-align: right;\n",
       "    }\n",
       "</style>\n",
       "<table border=\"1\" class=\"dataframe\">\n",
       "  <thead>\n",
       "    <tr style=\"text-align: right;\">\n",
       "      <th></th>\n",
       "      <th>stable_motifs_new</th>\n",
       "      <th>sm_jgtz</th>\n",
       "      <th>boolsim</th>\n",
       "      <th>CABEAN</th>\n",
       "      <th>PyBoolNet</th>\n",
       "    </tr>\n",
       "    <tr>\n",
       "      <th>N</th>\n",
       "      <th></th>\n",
       "      <th></th>\n",
       "      <th></th>\n",
       "      <th></th>\n",
       "      <th></th>\n",
       "    </tr>\n",
       "  </thead>\n",
       "  <tbody>\n",
       "    <tr>\n",
       "      <th>10</th>\n",
       "      <td>10</td>\n",
       "      <td>10</td>\n",
       "      <td>10</td>\n",
       "      <td>10</td>\n",
       "      <td>10</td>\n",
       "    </tr>\n",
       "    <tr>\n",
       "      <th>20</th>\n",
       "      <td>10</td>\n",
       "      <td>9</td>\n",
       "      <td>10</td>\n",
       "      <td>9</td>\n",
       "      <td>10</td>\n",
       "    </tr>\n",
       "    <tr>\n",
       "      <th>30</th>\n",
       "      <td>9</td>\n",
       "      <td>10</td>\n",
       "      <td>10</td>\n",
       "      <td>10</td>\n",
       "      <td>10</td>\n",
       "    </tr>\n",
       "  </tbody>\n",
       "</table>\n",
       "</div>"
      ],
      "text/plain": [
       "    stable_motifs_new  sm_jgtz  boolsim  CABEAN  PyBoolNet\n",
       "N                                                         \n",
       "10                 10       10       10      10         10\n",
       "20                 10        9       10       9         10\n",
       "30                  9       10       10      10         10"
      ]
     },
     "execution_count": 4,
     "metadata": {},
     "output_type": "execute_result"
    }
   ],
   "source": [
    "# import and organize raw timing data and display completion counts\n",
    "df=pd.read_excel('timing_results_RBN.xlsx')\n",
    "df['N']=df.apply(lambda row: int(row['model'].split('N_')[-1].split('_')[0]),axis=1)\n",
    "df=df[methods+['N']]\n",
    "df.groupby('N').agg('count')[methods]"
   ]
  },
  {
   "cell_type": "code",
   "execution_count": 5,
   "metadata": {},
   "outputs": [],
   "source": [
    "# process data into data dictionary for plotting\n",
    "N_range=sorted(set(df['N']))\n",
    "N_data={}\n",
    "for N in N_range:\n",
    "    N_data[N]=[]\n",
    "    for method in methods:\n",
    "        N_data[N].append(df[method][df[method].astype(str).str.replace('.', '').str.isnumeric()][df['N']==N].values)"
   ]
  },
  {
   "cell_type": "code",
   "execution_count": 6,
   "metadata": {},
   "outputs": [
    {
     "data": {
      "text/plain": [
       "{10: [array([0.28092401, 0.25937979, 0.27138925, 0.60778262, 0.23587238,\n",
       "         0.15754141, 0.11085686, 0.56399613, 0.24969792, 0.76133366]),\n",
       "  array([4.22447534, 3.12739159, 3.25294383, 5.71082877, 3.21846691,\n",
       "         2.17967996, 2.6265504 , 4.50521619, 3.71897522, 5.13953211]),\n",
       "  array([0.53000695, 0.19066863, 0.18056128, 0.18267573, 0.16997281,\n",
       "         0.2221741 , 0.18015402, 0.19374919, 0.54161279, 0.19074885]),\n",
       "  array([0.09230435, 0.11476685, 0.10203054, 0.10023901, 0.08490519,\n",
       "         0.11079122, 0.11983683, 0.1044668 , 0.12969334, 0.11971429]),\n",
       "  array([0.20983748, 0.21942685, 0.39176911, 0.32216579, 0.48962391,\n",
       "         0.12308276, 0.06622562, 0.46464314, 0.53336767, 0.7252974 ])],\n",
       " 20: [array([1.54078719, 0.42655485, 0.3420702 , 0.60884406, 3.30575014,\n",
       "         2.34381245, 0.13721442, 1.77817883, 0.12688694, 0.11581667]),\n",
       "  array([ 9.52416985,  4.79486515, 17.44571128, 34.27832973,  3.68021838,\n",
       "          4.84709663, 15.16841643,  5.04534409,  5.09098716]),\n",
       "  array([0.27698018, 0.42240808, 0.1706715 , 0.17788838, 0.23962056,\n",
       "         4.51551734, 0.18353184, 0.1763142 , 0.18704459, 0.16335665]),\n",
       "  array([0.19257319, 0.20040914, 0.11730228, 0.1159052 , 0.13310707,\n",
       "         0.11218369, 0.08564786, 0.11991421, 0.11149228]),\n",
       "  array([1.33128403, 0.82386856, 0.36076873, 0.69662586, 1.29759458,\n",
       "         1.47172456, 0.16930332, 1.08660636, 0.24698664, 0.36484643])],\n",
       " 30: [array([2.80542837, 1.41435304, 0.48413431, 0.14122868, 0.3165149 ,\n",
       "         0.74145011, 0.5818641 , 0.48319448, 0.8801238 ]),\n",
       "  array([ 7.40812407,  6.7491444 ,  7.16137422,  5.33020594,  4.67788688,\n",
       "          7.35177193,  4.63082543, 14.64063736,  7.31741515,  8.39345159]),\n",
       "  array([2.71006209, 0.3558491 , 0.52855567, 0.21236495, 0.18722231,\n",
       "         0.21862002, 0.21203816, 0.55168421, 3.75102223, 0.25610061]),\n",
       "  array([0.54585399, 0.50085587, 0.26702503, 0.28281239, 0.40388143,\n",
       "         0.35069223, 0.32622901, 0.5219102 , 1.9759748 , 0.46388373]),\n",
       "  array([7.81806491, 2.09008912, 1.48729491, 0.66356357, 0.58853368,\n",
       "         3.69525104, 1.33314941, 3.83892842, 2.17322884, 3.18165941])]}"
      ]
     },
     "execution_count": 6,
     "metadata": {},
     "output_type": "execute_result"
    }
   ],
   "source": [
    "N_data"
   ]
  },
  {
   "cell_type": "markdown",
   "metadata": {},
   "source": [
    "# Box plots with log base 60"
   ]
  },
  {
   "cell_type": "code",
   "execution_count": 7,
   "metadata": {},
   "outputs": [],
   "source": [
    "# define the base-60 logarithm\n",
    "def log60(x): return np.log(x)/np.log(60)"
   ]
  },
  {
   "cell_type": "code",
   "execution_count": 8,
   "metadata": {},
   "outputs": [
    {
     "name": "stderr",
     "output_type": "stream",
     "text": [
      "/home/david/anaconda2/envs/python_3_env/lib/python3.7/site-packages/numpy/core/_asarray.py:102: VisibleDeprecationWarning: Creating an ndarray from ragged nested sequences (which is a list-or-tuple of lists-or-tuples-or ndarrays with different lengths or shapes) is deprecated. If you meant to do this, you must specify 'dtype=object' when creating the ndarray.\n",
      "  return array(a, dtype, copy=False, order=order)\n",
      "/home/david/anaconda2/envs/python_3_env/lib/python3.7/site-packages/numpy/core/_asarray.py:102: VisibleDeprecationWarning: Creating an ndarray from ragged nested sequences (which is a list-or-tuple of lists-or-tuples-or ndarrays with different lengths or shapes) is deprecated. If you meant to do this, you must specify 'dtype=object' when creating the ndarray.\n",
      "  return array(a, dtype, copy=False, order=order)\n"
     ]
    },
    {
     "data": {
      "image/png": "[encoded data removed]",
      "text/plain": [
       "<Figure size 1152x864 with 1 Axes>"
      ]
     },
     "metadata": {},
     "output_type": "display_data"
    }
   ],
   "source": [
    "fsa=16\n",
    "ymax = log60(12*3600)+0.25\n",
    "# initialize plots\n",
    "fig, ax1 = plt.subplots(figsize=(16, 12),facecolor='white')\n",
    "fig.subplots_adjust(left=0.075, right=0.95, top=0.9, bottom=0.25)\n",
    "\n",
    "# prepare box plots\n",
    "medianprops = dict(linestyle='-', linewidth=1.5, color='#011A27')\n",
    "boxprops = dict(linestyle='-', linewidth=0.5, color='black')\n",
    "\n",
    "# Add a horizontal grid to the plot, but make it very light in color\n",
    "# so we can use it for reading data values but not be distracting\n",
    "ax1.yaxis.grid(True, linestyle='-', which='major', color='lightgrey',\n",
    "               alpha=0.8)\n",
    "\n",
    "# construct box plots (using the log-transformed data)\n",
    "pos_index=1\n",
    "for N in N_range:\n",
    "    bp = ax1.boxplot([np.log10(N_data[N][i].astype(float))/np.log10(60) for i in range(len(N_data[N]))], \n",
    "                     notch=0, sym='+', vert=1, whis=1.5,positions=range(pos_index,len(methods)+pos_index),\n",
    "                     widths = 0.9,medianprops=medianprops, boxprops=boxprops)\n",
    "    \n",
    "    for i in range(len(methods)):\n",
    "        box = bp['boxes'][i]\n",
    "        box_x = []\n",
    "        box_y = []\n",
    "        for j in range(5):\n",
    "            box_x.append(box.get_xdata()[j])\n",
    "            box_y.append(box.get_ydata()[j])\n",
    "        box_coords = np.column_stack([box_x, box_y])\n",
    "        ax1.add_patch(Polygon(box_coords, facecolor=color_dict[methods[i]],alpha=0.95))\n",
    "        #adding the completion counts\n",
    "        not_completed=10-len(N_data[N][i])\n",
    "        if not_completed!=0:\n",
    "            ax1.annotate(not_completed,xy=(np.mean(box_x),ymax-0.2), color=color_dict[methods[i]],size=fsa)\n",
    "    pos_index+=len(methods)+2\n",
    "\n",
    "# display plots\n",
    "plt.setp(bp['boxes'], color='black')\n",
    "plt.setp(bp['whiskers'], color='black')\n",
    "plt.setp(bp['fliers'], color='black', marker='+')\n",
    "\n",
    "# horizontal line to show the timeout cutoff\n",
    "hline3=plt.hlines(np.log10(12*3600)/np.log10(60),0, (len(methods)+2)*len(N_range), \n",
    "                  colors='red', linestyles='--', label='Timeout Threshold (12 hours)', alpha=0.8, linewidth=1.2)\n",
    "\n",
    "# prepare legend, ticks, and axis labels\n",
    "legend_elements = [Patch(facecolor=color_dict[i], label=label_dict[i]) for i in methods]\n",
    "legend_elements+=[hline3]\n",
    "x = [i for i in range(-1,3)]\n",
    "\n",
    "ytick_pos = [-1,0,1,2]\n",
    "ax1.set_yticks(ytick_pos)\n",
    "ax1.set_yticklabels([r'$\\frac{1}{60}$ sec.','1 sec.','1 min.','1 hr.'],rotation=0)\n",
    "mticks=[]\n",
    "minor_interval=5\n",
    "for k in ytick_pos:\n",
    "    mticks+=[log60(60**k+i*60**k) for i in range(minor_interval,60,minor_interval)]\n",
    "minors=ax1.set_yticks(mticks,minor=True)\n",
    "\n",
    "\n",
    "\n",
    "\n",
    "# display legend and labels\n",
    "plt.legend(handles=legend_elements,fontsize=16)\n",
    "plt.xlim([0,(len(methods)+2)*len(N_range)])\n",
    "plt.ylim(ymax=ymax)\n",
    "plt.xticks(np.linspace(len(methods)+2,(len(methods)+2)*len(N_range),\n",
    "                       len(N_range))-((len(methods)+2)/2.),\n",
    "                       N_range, fontsize=22)\n",
    "plt.yticks(fontsize=22)\n",
    "xlab=plt.xlabel(r'$N$',fontsize=22)\n",
    "ylab=plt.ylabel(r'Log completion time ($log_{60} T/sec )$',fontsize=22)"
   ]
  },
  {
   "cell_type": "code",
   "execution_count": null,
   "metadata": {},
   "outputs": [],
   "source": []
  },
  {
   "cell_type": "code",
   "execution_count": null,
   "metadata": {},
   "outputs": [],
   "source": []
  }
 ],
 "metadata": {
  "kernelspec": {
   "display_name": "Python 3",
   "language": "python",
   "name": "python3"
  },
  "language_info": {
   "codemirror_mode": {
    "name": "ipython",
    "version": 3
   },
   "file_extension": ".py",
   "mimetype": "text/x-python",
   "name": "python",
   "nbconvert_exporter": "python",
   "pygments_lexer": "ipython3",
   "version": "3.7.6"
  }
 },
 "nbformat": 4,
 "nbformat_minor": 4
}
