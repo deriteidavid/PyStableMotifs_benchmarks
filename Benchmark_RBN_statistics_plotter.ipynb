{
 "cells": [
  {
   "cell_type": "code",
   "execution_count": 1,
   "metadata": {},
   "outputs": [
    {
     "name": "stderr",
     "output_type": "stream",
     "text": [
      "\n",
      "Bad key \"text.kerning_factor\" on line 4 in\n",
      "/home/david/anaconda2/envs/python_3_env/lib/python3.7/site-packages/matplotlib/mpl-data/stylelib/_classic_test_patch.mplstyle.\n",
      "You probably need to get an updated matplotlibrc file from\n",
      "https://github.com/matplotlib/matplotlib/blob/v3.1.3/matplotlibrc.template\n",
      "or from the matplotlib source distribution\n"
     ]
    }
   ],
   "source": [
    "from matplotlib import pyplot as plt\n",
    "import seaborn as sns\n",
    "import pandas as pd\n",
    "import numpy as np\n",
    "import seaborn as sns\n",
    "from matplotlib.patches import Polygon\n",
    "from matplotlib.patches import Patch\n",
    "from matplotlib.lines import Line2D"
   ]
  },
  {
   "cell_type": "code",
   "execution_count": 2,
   "metadata": {},
   "outputs": [],
   "source": [
    "# prepare labels and colors\n",
    "methods=['stable_motifs_new','sm_jgtz', 'boolsim','CABEAN', 'PyBoolNet']\n",
    "colors=['#5959AB','#F0810F','#cc0000','#ff33cc','#26B96F'] \n",
    "labels=['Stable Motifs 2021', 'Stable Motifs 2013','BoolSim', 'CABEAN', 'PyBoolNet']\n",
    "color_dict=dict(zip(methods,colors))\n",
    "label_dict=dict(zip(methods,labels))"
   ]
  },
  {
   "cell_type": "code",
   "execution_count": 3,
   "metadata": {},
   "outputs": [
    {
     "data": {
      "text/html": [
       "<div>\n",
       "<style scoped>\n",
       "    .dataframe tbody tr th:only-of-type {\n",
       "        vertical-align: middle;\n",
       "    }\n",
       "\n",
       "    .dataframe tbody tr th {\n",
       "        vertical-align: top;\n",
       "    }\n",
       "\n",
       "    .dataframe thead th {\n",
       "        text-align: right;\n",
       "    }\n",
       "</style>\n",
       "<table border=\"1\" class=\"dataframe\">\n",
       "  <thead>\n",
       "    <tr style=\"text-align: right;\">\n",
       "      <th></th>\n",
       "      <th>stable_motifs_new</th>\n",
       "      <th>sm_jgtz</th>\n",
       "      <th>boolsim</th>\n",
       "      <th>CABEAN</th>\n",
       "      <th>PyBoolNet</th>\n",
       "    </tr>\n",
       "    <tr>\n",
       "      <th>N</th>\n",
       "      <th></th>\n",
       "      <th></th>\n",
       "      <th></th>\n",
       "      <th></th>\n",
       "      <th></th>\n",
       "    </tr>\n",
       "  </thead>\n",
       "  <tbody>\n",
       "    <tr>\n",
       "      <th>10</th>\n",
       "      <td>10</td>\n",
       "      <td>10</td>\n",
       "      <td>10</td>\n",
       "      <td>10</td>\n",
       "      <td>10</td>\n",
       "    </tr>\n",
       "    <tr>\n",
       "      <th>20</th>\n",
       "      <td>10</td>\n",
       "      <td>9</td>\n",
       "      <td>10</td>\n",
       "      <td>9</td>\n",
       "      <td>10</td>\n",
       "    </tr>\n",
       "    <tr>\n",
       "      <th>30</th>\n",
       "      <td>9</td>\n",
       "      <td>10</td>\n",
       "      <td>10</td>\n",
       "      <td>10</td>\n",
       "      <td>10</td>\n",
       "    </tr>\n",
       "    <tr>\n",
       "      <th>40</th>\n",
       "      <td>10</td>\n",
       "      <td>8</td>\n",
       "      <td>9</td>\n",
       "      <td>9</td>\n",
       "      <td>8</td>\n",
       "    </tr>\n",
       "    <tr>\n",
       "      <th>50</th>\n",
       "      <td>10</td>\n",
       "      <td>10</td>\n",
       "      <td>6</td>\n",
       "      <td>6</td>\n",
       "      <td>1</td>\n",
       "    </tr>\n",
       "  </tbody>\n",
       "</table>\n",
       "</div>"
      ],
      "text/plain": [
       "    stable_motifs_new  sm_jgtz  boolsim  CABEAN  PyBoolNet\n",
       "N                                                         \n",
       "10                 10       10       10      10         10\n",
       "20                 10        9       10       9         10\n",
       "30                  9       10       10      10         10\n",
       "40                 10        8        9       9          8\n",
       "50                 10       10        6       6          1"
      ]
     },
     "execution_count": 3,
     "metadata": {},
     "output_type": "execute_result"
    }
   ],
   "source": [
    "# import and organize raw timing data and display completion counts\n",
    "df=pd.read_excel('timing_results_RBN.xlsx')\n",
    "df['N']=df.apply(lambda row: int(row['model'].split('N_')[-1].split('_')[0]),axis=1)\n",
    "df=df[methods+['N']]\n",
    "df.groupby('N').agg('count')[methods]"
   ]
  },
  {
   "cell_type": "code",
   "execution_count": 4,
   "metadata": {},
   "outputs": [],
   "source": [
    "# process data into data dictionary for plotting\n",
    "N_range=sorted(set(df['N']))\n",
    "N_data={}\n",
    "for N in N_range:\n",
    "    N_data[N]=[]\n",
    "    for method in methods:\n",
    "        N_data[N].append(df[method][df[method].astype(str).str.replace('.', '').str.isnumeric()][df['N']==N].values)"
   ]
  },
  {
   "cell_type": "code",
   "execution_count": 5,
   "metadata": {},
   "outputs": [
    {
     "data": {
      "text/plain": [
       "{10: [array([0.13299453, 0.17796461, 0.14207199, 0.28290099, 0.23467091,\n",
       "         0.11138523, 0.13480608, 0.68177074, 0.24380255, 0.41558852]),\n",
       "  array([2.70644859, 2.46719742, 3.10628371, 6.03298816, 3.5837742 ,\n",
       "         3.2388121 , 2.94951819, 5.84906665, 4.56622134, 7.28769252]),\n",
       "  array([0.25101212, 0.11861975, 0.1231813 , 0.11854009, 0.12064191,\n",
       "         0.15253497, 0.15633468, 0.16605466, 0.42814948, 0.21231734]),\n",
       "  array([0.06004516, 0.06218608, 0.04696938, 0.04660838, 0.05941637,\n",
       "         0.06049897, 0.05448652, 0.06857059, 0.09474102, 0.07687634]),\n",
       "  array([0.09534486, 0.12215345, 0.18424   , 0.16966897, 0.23169728,\n",
       "         0.08898271, 0.08614431, 0.27316441, 0.3468824 , 0.51181145])],\n",
       " 20: [array([1.46173227, 0.37687094, 0.36990667, 0.69357218, 3.32473666,\n",
       "         2.3020121 , 0.13367885, 1.7005467 , 0.23357835, 0.19582492]),\n",
       "  array([13.16589578,  6.52617766, 16.6743117 , 40.49023525,  3.93657579,\n",
       "          4.87773921, 14.09607318,  5.69878414,  6.33562562]),\n",
       "  array([0.28847827, 0.20468476, 0.20978433, 0.18555739, 0.21635769,\n",
       "         4.89377142, 0.19399971, 0.20556021, 0.19038849, 0.1974739 ]),\n",
       "  array([0.12686037, 0.15650487, 0.14295312, 0.123068  , 0.12154757,\n",
       "         0.10483847, 0.08123193, 0.1361032 , 0.15479792]),\n",
       "  array([1.38125528, 0.7694339 , 0.41252668, 0.72240188, 1.12629714,\n",
       "         1.66370402, 0.16556215, 1.14138576, 0.24917027, 0.27180961])],\n",
       " 30: [array([3.8599861 , 1.63699417, 0.54828789, 0.13462067, 0.17193107,\n",
       "         0.35909543, 0.36435231, 0.41692512, 0.46427331]),\n",
       "  array([10.98078577,  7.54291404,  7.34293346,  5.58375607,  4.06544735,\n",
       "          6.99418618,  4.39736413, 17.44735613,  6.89011408,  6.90769923]),\n",
       "  array([3.5978446 , 0.43575561, 0.4083318 , 0.19314554, 0.15049902,\n",
       "         0.18944284, 0.1684994 , 0.48285363, 3.17081754, 0.15335638]),\n",
       "  array([0.65155241, 0.48878205, 0.29235732, 0.29624656, 0.30731663,\n",
       "         0.30245276, 0.27317865, 0.43644283, 1.63947773, 0.34746506]),\n",
       "  array([3.35622457, 2.88295579, 1.15791953, 0.54243571, 0.34758715,\n",
       "         3.22584251, 1.10646007, 3.62048027, 0.80523355, 2.81379559])],\n",
       " 40: [array([7.46205653, 0.79129238, 0.67124257, 3.74402422, 3.33546668,\n",
       "         0.60153966, 0.59196682, 0.36348296, 0.86601388, 0.65583344]),\n",
       "  array([11.31084754, 12.41656074, 16.11166667,  6.93848235,  7.88771147,\n",
       "         10.31205951, 10.98045328,  8.8737525 ]),\n",
       "  array([5.44140217, 0.35123184, 2.29118591, 0.25016337, 0.24681063,\n",
       "         2.1303898 , 0.36329233, 0.35527056, 0.31015771]),\n",
       "  array([2.05751148, 1.02349679, 0.59642859, 0.82494199, 1.26900843,\n",
       "         1.60445311, 1.96056408, 1.60970216, 0.85914079]),\n",
       "  array([ 8.15202393, 45.38119802,  4.21498751,  9.44907035, 39.7940255 ,\n",
       "          7.30147194, 12.78263022,  2.16832387])],\n",
       " 50: [array([ 1.19943117,  1.31829186,  4.80936589,  2.1450166 ,  3.97288507,\n",
       "          4.23362021,  1.88291998,  2.54648554, 35.3082871 ,  1.68404428]),\n",
       "  array([16.29396609, 14.29005093, 24.48062579, 14.5367887 ,  9.95497127,\n",
       "         19.24156686, 14.26685067, 20.44437022, 43.53139132, 14.58904015]),\n",
       "  array([ 0.42489625, 12.11477227,  0.51226181,  1.5503553 ,  1.7737187 ,\n",
       "         10.88429418]),\n",
       "  array([4.35712572, 3.79972223, 2.30775309, 2.57638335, 3.92573812,\n",
       "         2.71198835]),\n",
       "  array([41.44235248])]}"
      ]
     },
     "execution_count": 5,
     "metadata": {},
     "output_type": "execute_result"
    }
   ],
   "source": [
    "N_data"
   ]
  },
  {
   "cell_type": "markdown",
   "metadata": {},
   "source": [
    "# Box plots with log base 60"
   ]
  },
  {
   "cell_type": "code",
   "execution_count": 6,
   "metadata": {},
   "outputs": [],
   "source": [
    "# define the base-60 logarithm\n",
    "def log60(x): return np.log(x)/np.log(60)"
   ]
  },
  {
   "cell_type": "code",
   "execution_count": 10,
   "metadata": {},
   "outputs": [
    {
     "name": "stderr",
     "output_type": "stream",
     "text": [
      "/home/david/anaconda2/envs/python_3_env/lib/python3.7/site-packages/numpy/core/_asarray.py:102: VisibleDeprecationWarning: Creating an ndarray from ragged nested sequences (which is a list-or-tuple of lists-or-tuples-or ndarrays with different lengths or shapes) is deprecated. If you meant to do this, you must specify 'dtype=object' when creating the ndarray.\n",
      "  return array(a, dtype, copy=False, order=order)\n",
      "/home/david/anaconda2/envs/python_3_env/lib/python3.7/site-packages/numpy/core/_asarray.py:102: VisibleDeprecationWarning: Creating an ndarray from ragged nested sequences (which is a list-or-tuple of lists-or-tuples-or ndarrays with different lengths or shapes) is deprecated. If you meant to do this, you must specify 'dtype=object' when creating the ndarray.\n",
      "  return array(a, dtype, copy=False, order=order)\n",
      "/home/david/anaconda2/envs/python_3_env/lib/python3.7/site-packages/numpy/core/_asarray.py:102: VisibleDeprecationWarning: Creating an ndarray from ragged nested sequences (which is a list-or-tuple of lists-or-tuples-or ndarrays with different lengths or shapes) is deprecated. If you meant to do this, you must specify 'dtype=object' when creating the ndarray.\n",
      "  return array(a, dtype, copy=False, order=order)\n",
      "/home/david/anaconda2/envs/python_3_env/lib/python3.7/site-packages/numpy/core/_asarray.py:102: VisibleDeprecationWarning: Creating an ndarray from ragged nested sequences (which is a list-or-tuple of lists-or-tuples-or ndarrays with different lengths or shapes) is deprecated. If you meant to do this, you must specify 'dtype=object' when creating the ndarray.\n",
      "  return array(a, dtype, copy=False, order=order)\n"
     ]
    },
    {
     "data": {
      "image/png": "[encoded data removed]",
      "text/plain": [
       "<Figure size 1152x864 with 1 Axes>"
      ]
     },
     "metadata": {},
     "output_type": "display_data"
    }
   ],
   "source": [
    "fsa=16\n",
    "ymax = log60(12*3600)+0.25\n",
    "# initialize plots\n",
    "fig, ax1 = plt.subplots(figsize=(16, 12),facecolor='white')\n",
    "fig.subplots_adjust(left=0.075, right=0.95, top=0.9, bottom=0.25)\n",
    "\n",
    "# prepare box plots\n",
    "medianprops = dict(linestyle='-', linewidth=1.5, color='#011A27')\n",
    "boxprops = dict(linestyle='-', linewidth=0.5, color='black')\n",
    "\n",
    "# Add a horizontal grid to the plot, but make it very light in color\n",
    "# so we can use it for reading data values but not be distracting\n",
    "ax1.yaxis.grid(True, linestyle='-', which='major', color='lightgrey',\n",
    "               alpha=0.8)\n",
    "\n",
    "# construct box plots (using the log-transformed data)\n",
    "pos_index=1\n",
    "for N in N_range:\n",
    "    bp = ax1.boxplot([np.log10(N_data[N][i].astype(float))/np.log10(60) for i in range(len(N_data[N]))], \n",
    "                     notch=0, sym='+', vert=1, whis=1.5,positions=range(pos_index,len(methods)+pos_index),\n",
    "                     widths = 0.9,medianprops=medianprops, boxprops=boxprops)\n",
    "    \n",
    "    for i in range(len(methods)):\n",
    "        box = bp['boxes'][i]\n",
    "        box_x = []\n",
    "        box_y = []\n",
    "        for j in range(5):\n",
    "            box_x.append(box.get_xdata()[j])\n",
    "            box_y.append(box.get_ydata()[j])\n",
    "        box_coords = np.column_stack([box_x, box_y])\n",
    "        ax1.add_patch(Polygon(box_coords, facecolor=color_dict[methods[i]],alpha=0.95))\n",
    "        #adding the completion counts\n",
    "        not_completed=10-len(N_data[N][i])\n",
    "        if not_completed!=0:\n",
    "            ax1.annotate(not_completed,xy=(np.mean(box_x),ymax-0.2), color=color_dict[methods[i]],size=fsa)\n",
    "    pos_index+=len(methods)+2\n",
    "\n",
    "# display plots\n",
    "plt.setp(bp['boxes'], color='black')\n",
    "plt.setp(bp['whiskers'], color='black')\n",
    "plt.setp(bp['fliers'], color='black', marker='+')\n",
    "\n",
    "# horizontal line to show the timeout cutoff\n",
    "hline3=plt.hlines(np.log10(12*3600)/np.log10(60),0, (len(methods)+2)*len(N_range), \n",
    "                  colors='red', linestyles='--', label='Timeout Threshold (12 hours)', alpha=0.8, linewidth=1.2)\n",
    "\n",
    "# prepare legend, ticks, and axis labels\n",
    "legend_elements = [Patch(facecolor=color_dict[i], label=label_dict[i]) for i in methods]\n",
    "legend_elements+=[hline3]\n",
    "x = [i for i in range(-1,3)]\n",
    "\n",
    "ytick_pos = [-1,0,1,2]\n",
    "ax1.set_yticks(ytick_pos)\n",
    "ax1.set_yticklabels([r'$\\frac{1}{60}$ sec.','1 sec.','1 min.','1 hr.'],rotation=0)\n",
    "mticks=[]\n",
    "minor_interval=5\n",
    "for k in ytick_pos:\n",
    "    mticks+=[log60(60**k+i*60**k) for i in range(minor_interval,60,minor_interval)]\n",
    "minors=ax1.set_yticks(mticks,minor=True)\n",
    "\n",
    "\n",
    "\n",
    "\n",
    "# display legend and labels\n",
    "plt.legend(handles=legend_elements,fontsize=16, loc='upper left')\n",
    "plt.xlim([0,(len(methods)+2)*len(N_range)])\n",
    "plt.ylim(ymax=ymax)\n",
    "plt.xticks(np.linspace(len(methods)+2,(len(methods)+2)*len(N_range),\n",
    "                       len(N_range))-((len(methods)+2)/2.),\n",
    "                       N_range, fontsize=22)\n",
    "plt.yticks(fontsize=22)\n",
    "xlab=plt.xlabel(r'$N$',fontsize=22)\n",
    "ylab=plt.ylabel(r'Log completion time ($log_{60} T/sec )$',fontsize=22)"
   ]
  },
  {
   "cell_type": "code",
   "execution_count": null,
   "metadata": {},
   "outputs": [],
   "source": []
  },
  {
   "cell_type": "code",
   "execution_count": null,
   "metadata": {},
   "outputs": [],
   "source": []
  }
 ],
 "metadata": {
  "kernelspec": {
   "display_name": "Python 3",
   "language": "python",
   "name": "python3"
  },
  "language_info": {
   "codemirror_mode": {
    "name": "ipython",
    "version": 3
   },
   "file_extension": ".py",
   "mimetype": "text/x-python",
   "name": "python",
   "nbconvert_exporter": "python",
   "pygments_lexer": "ipython3",
   "version": "3.7.6"
  }
 },
 "nbformat": 4,
 "nbformat_minor": 4
}
